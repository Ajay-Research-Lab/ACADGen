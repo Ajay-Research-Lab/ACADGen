{
 "cells": [
  {
   "cell_type": "code",
   "execution_count": 24,
   "metadata": {},
   "outputs": [],
   "source": [
    "import argparse\n",
    "import copy\n",
    "import json\n",
    "import os\n",
    "import shutil\n",
    "\n",
    "import cv2\n",
    "import numpy as np\n",
    "from utils.shape import node\n",
    "from utils.tree import createtree\n",
    "from utils.operation import *\n",
    "\n",
    "from matplotlib import pyplot as plt\n",
    "from IPython.display import Image\n",
    "\n",
    "\n",
    "def Dimensioning(userId,view,image):\n",
    "\n",
    "    #Creating temp directory if not present\n",
    "    os.makedirs('static/temp', exist_ok=True)\n",
    "    #Getting user input from app\n",
    "    img = cv2.imread(image,cv2.IMREAD_UNCHANGED)\n",
    "    #Initialization\n",
    "    ratio = 0\n",
    "    shape = \"unidentified\"\n",
    "    #Getting the size of image\n",
    "    w,h,_=img.shape\n",
    "    drawSize = int(h/300)\n",
    "    #Convert image to grayscale\n",
    "    imgrey = cv2.cvtColor(img.copy(),cv2.COLOR_BGR2GRAY)\n",
    "    #Convert image to black and white\n",
    "    ret, thresh = cv2.threshold(imgrey,127,255,cv2.THRESH_BINARY_INV)\n",
    "    #Find contours\n",
    "    contours, hierarchy = cv2.findContours(thresh,cv2.RETR_CCOMP,cv2.CHAIN_APPROX_SIMPLE)\n",
    "    #Arrange the contours in descending order of area\n",
    "    hierarchy,contours = zip(*sorted(zip(hierarchy[0],contours),key = lambda x: cv2.contourArea(x[1]),reverse=True))\n",
    "\n",
    "    for i,c in enumerate(contours):\n",
    "        #Get the outer most closed contour\n",
    "        if(hierarchy[i][3] != -1  or (hierarchy[i][3] == -1 and hierarchy[i][2] == -1) ):\n",
    "            M = cv2.moments(c)\n",
    "            if(M[\"m00\"] !=0):\n",
    "                cX = int(M[\"m10\"] / M[\"m00\"])\n",
    "                cY = int(M[\"m01\"] / M[\"m00\"])\n",
    "                #Getting the minimum area rectangle enclosing the contour\n",
    "                rect = cv2.minAreaRect(c)\n",
    "                box = cv2.boxPoints(rect)\n",
    "                #Getting horizontal rectangle enclosing the contour\n",
    "                x,y,w,h = cv2.boundingRect(c)\n",
    "\n",
    "                # cv2.putText(img, \"#{}\".format(i), (box[0][0], box[0][1]), cv2.FONT_HERSHEY_SIMPLEX,\n",
    "                #     textSize, (255, 0, 0), drawSize,cv2.LINE_AA)\n",
    "\n",
    "                # draw contours\n",
    "                cv2.drawContours(img, [c], 0, (0,0, 255), drawSize)\n",
    "                #detect Shape\n",
    "                shape, cylinder_type = detect(c)\n",
    "                #Length per pixel\n",
    "                ratio = 1.0/rect[1][0]\n",
    "                if(shape == \"unidentified\"):\n",
    "                    continue\n",
    "                #w is the width of the rectagle enclosing the circle, i.e diameter of the circle\n",
    "                if(shape==\"Circle\"):\n",
    "                    ratio = 1/w\n",
    "                break\n",
    "    \n",
    "    #highlighted image path\n",
    "    folder = 'static/temp/' + userId\n",
    "    os.makedirs(folder, exist_ok=True)\n",
    "    #Check whether file already exist and delete\n",
    "    try:\n",
    "        os.remove(folder + '/' + view + '.png')\n",
    "    except: pass\n",
    "\n",
    "    path_file = (folder + '/' + view + '.png')\n",
    "\n",
    "    #reducing the image size\n",
    "    small = cv2.resize(img, (0,0), fx=0.5, fy=0.5) \n",
    "    cv2.imwrite(path_file,small)\n",
    "    #Convert float to string\n",
    "    ratio = str(ratio)\n",
    "    #Json data to send\n",
    "    data={'image': path_file,'shape': shape,'ratio': ratio}\n",
    "#     plt.imshow(image)\n",
    "#     plt.show()\n",
    "    display(Image(filename = path_file))\n",
    "    return json.dumps(data)"
   ]
  },
  {
   "cell_type": "code",
   "execution_count": 25,
   "metadata": {},
   "outputs": [],
   "source": [
    "def Convert(userId, front_image, side_image, top_image, fratio, sratio, tratio):\n",
    "    os.makedirs('static', exist_ok=True)\n",
    "\n",
    "    img_front = cv2.imread(front_image,cv2.IMREAD_UNCHANGED)\n",
    "    img_side = cv2.imread(side_image,cv2.IMREAD_UNCHANGED)\n",
    "    img_top = cv2.imread(top_image,cv2.IMREAD_UNCHANGED)\n",
    "\n",
    "    fratio = float(fratio)\n",
    "    sratio = float(sratio)\n",
    "    tratio = float(tratio)\n",
    "    filePath = \"static/temp/\"+userId\n",
    "#Remove temp file created while dimensioning\n",
    "    try:\n",
    "        shutil.rmtree(filePath)\n",
    "    except OSError as e:\n",
    "        print (\"Error: %s - %s.\" % (e.filename, e.strerror))\n",
    "\n",
    "    primitive = []\n",
    "    #front\n",
    "    object_front = valid_contours(img_front,\"front\",fratio)\n",
    "    re_arrange(object_front,\"front\")\n",
    "    front_parts = []\n",
    "    for object in object_front:\n",
    "        for i in object:\n",
    "            front_parts.append(i[0])\n",
    "    \n",
    "    #side\n",
    "    object_side = valid_contours(img_side,\"side\",sratio)\n",
    "    re_arrange(object_side,\"side\")\n",
    "    side_parts = []\n",
    "    for object in object_side:\n",
    "        for i in object:\n",
    "            side_parts.append(i[0])\n",
    "\n",
    "    #Top\n",
    "    object_top = valid_contours(img_top,\"top\",tratio)\n",
    "    re_arrange(object_top,\"top\")\n",
    "    top_parts = []\n",
    "    for object in object_top:\n",
    "        for i in object:\n",
    "            top_parts.append(i[0])\n",
    "\n",
    "    #Thershold error        \n",
    "    minApprox = 4.0 * max(fratio,sratio,tratio)\n",
    "    primitive = combining(object_front,object_side,object_top,minApprox)\n",
    "    final = []\n",
    "    for set in primitive:\n",
    "        for shape in set:\n",
    "            final.append(shape[0])\n",
    "    \n",
    "    #Check whether file already exist and delete\n",
    "    try:\n",
    "        os.remove('static/' + userId + '.scad')\n",
    "    except: pass\n",
    "\n",
    "    #Generate scad file\n",
    "    path_file = ('static/' + userId + '.scad')\n",
    "    #If the list is empty no shape has been detected\n",
    "    if(len(final) == 0):\n",
    "        path_file = 'static/error.txt'\n",
    "        f = open(path_file, \"w\")\n",
    "        f.write(\"Cannot determine the 3d geometry, check your files again!\")\n",
    "        f.close()\n",
    "    createtree(final,path_file)\n",
    "\n",
    "    return json.dumps(path_file)\n"
   ]
  },
  {
   "cell_type": "code",
   "execution_count": 26,
   "metadata": {},
   "outputs": [],
   "source": [
    "userId=\"1\"\n",
    "front_image = \"TestBench/2/front2.png\"\n",
    "side_image = \"TestBench/2/side2.png\"\n",
    "top_image = \"TestBench/2/top2.png\""
   ]
  },
  {
   "cell_type": "code",
   "execution_count": 27,
   "metadata": {},
   "outputs": [
    {
     "data": {
      "image/png": "[encoded data removed]",
      "text/plain": [
       "<IPython.core.display.Image object>"
      ]
     },
     "metadata": {},
     "output_type": "display_data"
    },
    {
     "data": {
      "text/plain": [
       "'{\"image\": \"static/temp/1/front.png\", \"shape\": \"rectangle\", \"ratio\": \"0.0030303035907728883\"}'"
      ]
     },
     "execution_count": 27,
     "metadata": {},
     "output_type": "execute_result"
    }
   ],
   "source": [
    "Dimensioning(userId,\"front\",front_image)"
   ]
  },
  {
   "cell_type": "code",
   "execution_count": 28,
   "metadata": {},
   "outputs": [
    {
     "data": {
      "image/png": "[encoded data removed]",
      "text/plain": [
       "<IPython.core.display.Image object>"
      ]
     },
     "metadata": {},
     "output_type": "display_data"
    },
    {
     "data": {
      "text/plain": [
       "'{\"image\": \"static/temp/1/side.png\", \"shape\": \"rectangle\", \"ratio\": \"0.0025706944907525446\"}'"
      ]
     },
     "execution_count": 28,
     "metadata": {},
     "output_type": "execute_result"
    }
   ],
   "source": [
    "Dimensioning(userId,\"side\",side_image)"
   ]
  },
  {
   "cell_type": "code",
   "execution_count": 29,
   "metadata": {},
   "outputs": [
    {
     "data": {
      "image/png": "[encoded data removed]",
      "text/plain": [
       "<IPython.core.display.Image object>"
      ]
     },
     "metadata": {},
     "output_type": "display_data"
    },
    {
     "data": {
      "text/plain": [
       "'{\"image\": \"static/temp/1/top.png\", \"shape\": \"rectangle\", \"ratio\": \"0.002570694087403599\"}'"
      ]
     },
     "execution_count": 29,
     "metadata": {},
     "output_type": "execute_result"
    }
   ],
   "source": [
    "Dimensioning(userId,\"top\",top_image)"
   ]
  },
  {
   "cell_type": "code",
   "execution_count": 30,
   "metadata": {},
   "outputs": [],
   "source": [
    "#Multiply the outputed ratio by the width of the rectangle or the diameter in case of circle\n",
    "\"\"\"This is done because lets say the images are taken from camera the the pixel to dimension ratio\n",
    "might changes for each view, so we take the pixel to dimension ratio for converions\"\"\"\n",
    "fratio = 0.0030303035907728883 * 34 #Width of rectangle in highlighted in front view \n",
    "sratio = 0.0025706944907525446 * 40 #Width of rectangle in highlighted in front view\n",
    "tratio = 0.002570694087403599 * 40 #Width of rectangle in highlighted in front view"
   ]
  },
  {
   "cell_type": "code",
   "execution_count": 31,
   "metadata": {},
   "outputs": [
    {
     "name": "stdout",
     "output_type": "stream",
     "text": [
      "\n",
      "\n",
      "Subtree: 2\n"
     ]
    },
    {
     "data": {
      "text/plain": [
       "'\"static/1.scad\"'"
      ]
     },
     "execution_count": 31,
     "metadata": {},
     "output_type": "execute_result"
    }
   ],
   "source": [
    "Convert(userId,front_image, side_image, top_image,fratio, sratio, tratio)"
   ]
  },
  {
   "cell_type": "code",
   "execution_count": 23,
   "metadata": {},
   "outputs": [
    {
     "data": {
      "application/vnd.jupyter.widget-view+json": {
       "model_id": "d90c214925df40ddb0e6b03ecb7988c4",
       "version_major": 2,
       "version_minor": 0
      },
      "text/plain": [
       "VBox(children=(HTML(value=''), Renderer(background='#cccc88', background_opacity=0.0, camera=PerspectiveCamera…"
      ]
     },
     "metadata": {},
     "output_type": "display_data"
    }
   ],
   "source": [
    "import viewscad\n",
    "from solid import *\n",
    "\n",
    "r = viewscad.Renderer(openscad_exec='C:\\Program Files\\OpenSCAD\\openscad.exe')\n",
    "c = cylinder(h = 30.0, r=9);\n",
    "r.render(c)"
   ]
  },
  {
   "cell_type": "code",
   "execution_count": null,
   "metadata": {},
   "outputs": [],
   "source": []
  },
  {
   "cell_type": "code",
   "execution_count": null,
   "metadata": {},
   "outputs": [],
   "source": []
  }
 ],
 "metadata": {
  "kernelspec": {
   "display_name": "Python 3",
   "language": "python",
   "name": "python3"
  },
  "language_info": {
   "codemirror_mode": {
    "name": "ipython",
    "version": 3
   },
   "file_extension": ".py",
   "mimetype": "text/x-python",
   "name": "python",
   "nbconvert_exporter": "python",
   "pygments_lexer": "ipython3",
   "version": "3.8.6"
  }
 },
 "nbformat": 4,
 "nbformat_minor": 4
}
