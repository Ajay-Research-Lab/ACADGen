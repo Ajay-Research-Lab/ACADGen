{
 "cells": [
  {
   "cell_type": "markdown",
   "metadata": {},
   "source": [
    "# Convert your 2D CAD Drawing into 3D CAD Models\n",
    "## Outline\n",
    "\n",
    "This notebook is used for generating 3D CAD models given 3 views of the model, namely front, side and top view. \n",
    "## Dimensioning function\n",
    "The following funtion is used for dimensioning step, where you have to provide the all the 3 views images and the output of this function will be the image highlighted with a line and the unit length to pixel value. Once you get the raito value you can multiple it with the length of the highlighted line to get the length to pixel ratio for that view."
   ]
  },
  {
   "cell_type": "code",
   "execution_count": 33,
   "metadata": {},
   "outputs": [],
   "source": [
    "import copy\n",
    "import json\n",
    "import os\n",
    "import shutil\n",
    "import cv2\n",
    "import numpy as np\n",
    "from matplotlib import pyplot as plt\n",
    "from IPython.display import Image\n",
    "\n",
    "from utils.shape import node\n",
    "from utils.tree import createtree\n",
    "from utils.operation import *\n",
    "\n",
    "\n",
    "\n",
    "\n",
    "def Dimensioning(userId,view,image):\n",
    "\n",
    "    #Creating temp directory if not present\n",
    "    os.makedirs('static/temp', exist_ok=True)\n",
    "    #Getting user input from app\n",
    "    img = cv2.imread(image,cv2.IMREAD_UNCHANGED)\n",
    "    #Initialization\n",
    "    ratio = 0\n",
    "    shape = \"unidentified\"\n",
    "    #Getting the size of image\n",
    "    try:\n",
    "        w,h,_=img.shape\n",
    "        drawSize = int(h/300)\n",
    "        # if(drawSize == 0):\n",
    "        #     drawSize = 1\n",
    "        #Convert image to grayscale\n",
    "        imgrey = cv2.cvtColor(img.copy(),cv2.COLOR_BGR2GRAY)\n",
    "        #Convert image to black and white\n",
    "        ret, thresh = cv2.threshold(imgrey,127,255,cv2.THRESH_BINARY_INV)\n",
    "        #Find contours\n",
    "        contours, hierarchy = cv2.findContours(thresh,cv2.RETR_CCOMP,cv2.CHAIN_APPROX_SIMPLE)\n",
    "        #Arrange the contours in descending order of area\n",
    "        hierarchy,contours = zip(*sorted(zip(hierarchy[0],contours),key = lambda x: cv2.contourArea(x[1]),reverse=True))\n",
    "\n",
    "        for i,c in enumerate(contours):\n",
    "            #Get the outer most closed contour\n",
    "            if(hierarchy[i][3] != -1  or (hierarchy[i][3] == -1 and hierarchy[i][2] == -1) ):\n",
    "                M = cv2.moments(c)\n",
    "                if(M[\"m00\"] !=0):\n",
    "                    cX = int(M[\"m10\"] / M[\"m00\"])\n",
    "                    cY = int(M[\"m01\"] / M[\"m00\"])\n",
    "                    #Getting the minimum area rectangle enclosing the contour\n",
    "                    rect = cv2.minAreaRect(c)\n",
    "                    box = cv2.boxPoints(rect)\n",
    "                    box = np.int0(box)\n",
    "                    #Getting horizontal rectangle enclosing the contour\n",
    "                    x,y,w,h = cv2.boundingRect(c)\n",
    "\n",
    "                    # cv2.putText(img, \"#{}\".format(i), (box[0][0], box[0][1]), cv2.FONT_HERSHEY_SIMPLEX,\n",
    "                    #     textSize, (255, 0, 0), drawSize,cv2.LINE_AA)\n",
    "\n",
    "                    #detect Shape\n",
    "                    shape, cylinder_type = detect(c)              \n",
    "                    if(shape == \"unidentified\"):\n",
    "                        continue\n",
    "\n",
    "                    if(shape==\"triangle\" or shape==\"pentagon\" or shape==\"hexagon\"):\n",
    "                        img = cv2.drawContours(img, [box], 0, (0,0, 255), drawSize)\n",
    "                    # w is the width of the rectagle enclosing the circle, i.e diameter of the circle\n",
    "                    if(shape==\"circle\"):\n",
    "                        # draw contours\n",
    "                        img = cv2.rectangle(img,(x,y),(x+w,y+h),(0, 0, 255),drawSize)\n",
    "                        cv2.line(img, (x,y), (x+w,y), (0,255, 0), 2)\n",
    "                        ratio = 1/w\n",
    "                    else:\n",
    "                        # draw contours\n",
    "                        # img = cv2.drawContours(img, [box], 0, (0,0, 255), drawSize)\n",
    "                        cv2.line(img, tuple(box[0]), tuple(box[1]), (0,255, 0), 2)\n",
    "                        #Length per pixel\n",
    "                        ratio = 1.0/rect[1][1]\n",
    "                    break\n",
    "\n",
    "        #highlighted image path\n",
    "        folder = 'static/temp/' + userId\n",
    "        os.makedirs(folder, exist_ok=True)\n",
    "        #Check whether file already exist and delete\n",
    "        try:\n",
    "            os.remove(folder + '/' + view + '.jpg')\n",
    "        except: pass\n",
    "\n",
    "        path_file = (folder + '/' + view + '.jpg')\n",
    "\n",
    "        #reducing the image size\n",
    "        small = cv2.resize(img, (0,0), fx=0.5, fy=0.5) \n",
    "        cv2.imwrite(path_file,small)\n",
    "        #Convert float to string\n",
    "        ratio = str(ratio)\n",
    "        #Json data to send\n",
    "        data={'image': path_file,'shape': shape,'ratio': ratio}\n",
    "    #     plt.imshow(image)\n",
    "    #     plt.show()\n",
    "\n",
    "        display(Image(filename = path_file))\n",
    "        return data\n",
    "    except:\n",
    "      print(\"Image not found\")"
   ]
  },
  {
   "cell_type": "markdown",
   "metadata": {},
   "source": [
    "## Converting function\n",
    "This takes in all the 3 images and the length to pixel ratio for each view and created the 3D scad Model. ALso provide the unique userId which will be used to name the final scad file. you can see all the results in static folder"
   ]
  },
  {
   "cell_type": "code",
   "execution_count": 34,
   "metadata": {},
   "outputs": [],
   "source": [
    "import time\n",
    "\n",
    "def Convert(userId, front_image, side_image, top_image, fratio, sratio, tratio):\n",
    "    # store starting time \n",
    "    start = time.time() \n",
    "    os.makedirs('static/'+userId, exist_ok=True)\n",
    "\n",
    "    img_front = cv2.imread(front_image,cv2.IMREAD_UNCHANGED)\n",
    "    img_side = cv2.imread(side_image,cv2.IMREAD_UNCHANGED)\n",
    "    img_top = cv2.imread(top_image,cv2.IMREAD_UNCHANGED)\n",
    "\n",
    "    fratio = float(fratio)\n",
    "    sratio = float(sratio)\n",
    "    tratio = float(tratio)\n",
    "    filePath = \"static/temp/\"+userId\n",
    "#Remove temp file created while dimensioning\n",
    "    try:\n",
    "        shutil.rmtree(filePath)\n",
    "    except OSError as e:\n",
    "        print (\"Error: %s - %s.\" % (e.filename, e.strerror))\n",
    "\n",
    "    primitive = []\n",
    "    #front\n",
    "    object_front = valid_contours(img_front,\"front\",fratio)\n",
    "    re_arrange(object_front,\"front\")\n",
    "    \n",
    "    #side\n",
    "    object_side = valid_contours(img_side,\"side\",sratio)\n",
    "    re_arrange(object_side,\"side\")\n",
    "\n",
    "    #Top\n",
    "    object_top = valid_contours(img_top,\"top\",tratio)\n",
    "    re_arrange(object_top,\"top\")\n",
    "\n",
    "    #Thershold error        \n",
    "#     minApprox = 4 * max(fratio,sratio,tratio)\n",
    "    minApprox = 0.05\n",
    "    primitive = combining(object_front,object_side,object_top,minApprox)\n",
    "    final = []\n",
    "    for set in primitive:\n",
    "        for shape in set:\n",
    "            final.append(shape[0])\n",
    "    \n",
    "    #Check whether file already exist and delete\n",
    "    try:\n",
    "        os.remove('static/' + userId + \"/\" + userId + '.scad')\n",
    "    except: pass\n",
    "\n",
    "    #Generate scad file\n",
    "    path_file = ('static/' + userId + \"/\" + userId + '.scad')\n",
    "    #If the list is empty no shape has been detected\n",
    "    if(len(final) == 0):\n",
    "        path_file = 'static/error.txt'\n",
    "        f = open(path_file, \"w\")\n",
    "        f.write(\"Cannot determine the 3d geometry, check your files again!\")\n",
    "        f.close()\n",
    "    createtree(final,path_file)\n",
    "    # store end time \n",
    "    end = time.time() \n",
    "    print(\"Total time taken to convert:\",end-start)\n",
    "    return path_file\n"
   ]
  },
  {
   "cell_type": "markdown",
   "metadata": {},
   "source": [
    "## Sample run\n",
    "Setting the image fiel path "
   ]
  },
  {
   "cell_type": "code",
   "execution_count": 35,
   "metadata": {},
   "outputs": [
    {
     "data": {
      "text/plain": [
       "'TestBench/2/front.jpg'"
      ]
     },
     "execution_count": 35,
     "metadata": {},
     "output_type": "execute_result"
    }
   ],
   "source": [
    "userId=\"2\"\n",
    "front_image = \"TestBench/\"+userId+\"/front.jpg\"\n",
    "side_image = \"TestBench/\"+userId+\"/side.jpg\"\n",
    "top_image = \"TestBench/\"+userId+\"/top.jpg\"\n",
    "front_image"
   ]
  },
  {
   "cell_type": "markdown",
   "metadata": {},
   "source": [
    "Calling Dimensioning function for front view"
   ]
  },
  {
   "cell_type": "code",
   "execution_count": 36,
   "metadata": {},
   "outputs": [
    {
     "data": {
      "image/jpeg": "[encoded data removed]",
      "text/plain": [
       "<IPython.core.display.Image object>"
      ]
     },
     "metadata": {},
     "output_type": "display_data"
    }
   ],
   "source": [
    "d1 = Dimensioning(userId,\"front\",front_image)"
   ]
  },
  {
   "cell_type": "markdown",
   "metadata": {},
   "source": [
    "Calling Dimensioning function for side view"
   ]
  },
  {
   "cell_type": "code",
   "execution_count": 37,
   "metadata": {},
   "outputs": [
    {
     "data": {
      "image/jpeg": "[encoded data removed]",
      "text/plain": [
       "<IPython.core.display.Image object>"
      ]
     },
     "metadata": {},
     "output_type": "display_data"
    }
   ],
   "source": [
    "d2 = Dimensioning(userId,\"side\",side_image)"
   ]
  },
  {
   "cell_type": "markdown",
   "metadata": {},
   "source": [
    "Calling Dimensioning function for top view"
   ]
  },
  {
   "cell_type": "code",
   "execution_count": 38,
   "metadata": {},
   "outputs": [
    {
     "data": {
      "image/jpeg": "[encoded data removed]",
      "text/plain": [
       "<IPython.core.display.Image object>"
      ]
     },
     "metadata": {},
     "output_type": "display_data"
    }
   ],
   "source": [
    "d3 = Dimensioning(userId,\"top\",top_image)"
   ]
  },
  {
   "cell_type": "markdown",
   "metadata": {},
   "source": [
    "Multiply the ratio provided in the dimensioning step with the highlighted length\n",
    "\n",
    "This is done because lets say the images are taken from camera the the pixel to dimension ratio\n",
    "might changes for each view, so we take the pixel to dimension ratio for converions"
   ]
  },
  {
   "cell_type": "code",
   "execution_count": 39,
   "metadata": {},
   "outputs": [],
   "source": [
    "\n",
    "fratio = float(d1[\"ratio\"]) * 1 #Width of rectangle in highlighted in front view \n",
    "sratio = float(d2[\"ratio\"]) * 1 #Width of rectangle in highlighted in front view\n",
    "tratio = float(d3[\"ratio\"]) * 2 #Width of rectangle in highlighted in front view"
   ]
  },
  {
   "cell_type": "markdown",
   "metadata": {},
   "source": [
    "Call the function to convert the images to 3D scad model and the file path for scad is provided as output"
   ]
  },
  {
   "cell_type": "code",
   "execution_count": 40,
   "metadata": {},
   "outputs": [
    {
     "name": "stdout",
     "output_type": "stream",
     "text": [
      "Subtree: 1\n",
      "Total time taken to convert: 0.021104812622070312\n"
     ]
    },
    {
     "data": {
      "text/plain": [
       "'static/2/2.scad'"
      ]
     },
     "execution_count": 40,
     "metadata": {},
     "output_type": "execute_result"
    }
   ],
   "source": [
    "Convert(userId,front_image, side_image, top_image,fratio, sratio, tratio)"
   ]
  },
  {
   "cell_type": "markdown",
   "metadata": {},
   "source": [
    "Wait for a minute after running the following code, it will be running in the background"
   ]
  },
  {
   "cell_type": "code",
   "execution_count": 32,
   "metadata": {},
   "outputs": [
    {
     "name": "stdout",
     "output_type": "stream",
     "text": [
      "please wait...\n",
      "stl file found\n"
     ]
    },
    {
     "ename": "KeyboardInterrupt",
     "evalue": "",
     "output_type": "error",
     "traceback": [
      "\u001b[1;31m---------------------------------------------------------------------------\u001b[0m",
      "\u001b[1;31mKeyboardInterrupt\u001b[0m                         Traceback (most recent call last)",
      "\u001b[1;32m<ipython-input-32-ce7fa2344152>\u001b[0m in \u001b[0;36m<module>\u001b[1;34m\u001b[0m\n\u001b[0;32m     18\u001b[0m         \u001b[0mprint\u001b[0m\u001b[1;33m(\u001b[0m\u001b[1;34m\"stl file found\"\u001b[0m\u001b[1;33m)\u001b[0m\u001b[1;33m\u001b[0m\u001b[1;33m\u001b[0m\u001b[0m\n\u001b[0;32m     19\u001b[0m         \u001b[0mmesh\u001b[0m \u001b[1;33m=\u001b[0m \u001b[0mo3d\u001b[0m\u001b[1;33m.\u001b[0m\u001b[0mio\u001b[0m\u001b[1;33m.\u001b[0m\u001b[0mread_triangle_mesh\u001b[0m\u001b[1;33m(\u001b[0m\u001b[0mstl_filename\u001b[0m\u001b[1;33m)\u001b[0m\u001b[1;33m\u001b[0m\u001b[1;33m\u001b[0m\u001b[0m\n\u001b[1;32m---> 20\u001b[1;33m         \u001b[0mpointcloud\u001b[0m \u001b[1;33m=\u001b[0m \u001b[0mmesh\u001b[0m\u001b[1;33m.\u001b[0m\u001b[0msample_points_poisson_disk\u001b[0m\u001b[1;33m(\u001b[0m\u001b[1;36m100000\u001b[0m\u001b[1;33m)\u001b[0m\u001b[1;33m\u001b[0m\u001b[1;33m\u001b[0m\u001b[0m\n\u001b[0m\u001b[0;32m     21\u001b[0m         \u001b[0mo3d\u001b[0m\u001b[1;33m.\u001b[0m\u001b[0mio\u001b[0m\u001b[1;33m.\u001b[0m\u001b[0mwrite_point_cloud\u001b[0m\u001b[1;33m(\u001b[0m\u001b[0mpcd_filename\u001b[0m\u001b[1;33m,\u001b[0m \u001b[0mpointcloud\u001b[0m\u001b[1;33m)\u001b[0m\u001b[1;33m\u001b[0m\u001b[1;33m\u001b[0m\u001b[0m\n\u001b[0;32m     22\u001b[0m \u001b[1;31m#         o3d.draw_geometries([pointcloud])\u001b[0m\u001b[1;33m\u001b[0m\u001b[1;33m\u001b[0m\u001b[1;33m\u001b[0m\u001b[0m\n",
      "\u001b[1;31mKeyboardInterrupt\u001b[0m: "
     ]
    }
   ],
   "source": [
    "from subprocess import run\n",
    "import open3d as o3d\n",
    "from open3d.j_visualizer import JVisualizer\n",
    "import time\n",
    "from pyntcloud import PyntCloud\n",
    "\n",
    "print(\"please wait...\")\n",
    "# store starting time \n",
    "start = time.time() \n",
    "scad_filename = \"static/\" + userId + '/' + userId + \".scad\"\n",
    "stl_filename = \"static/\" + userId + '/' + userId + \".stl\"\n",
    "pcd_filename = \"static/\" + userId + '/' + userId + \".pcd\"\n",
    "\n",
    "\n",
    "if(os.path.isfile(scad_filename)):\n",
    "    run(\"openscadExec/openscad.exe -o \" + stl_filename + \" \" + scad_filename)\n",
    "    if(os.path.isfile(stl_filename)):\n",
    "        print(\"stl file found\")\n",
    "        mesh = o3d.io.read_triangle_mesh(stl_filename)\n",
    "        pointcloud = mesh.sample_points_poisson_disk(100000)\n",
    "        o3d.io.write_point_cloud(pcd_filename, pointcloud)\n",
    "#         o3d.draw_geometries([pointcloud])\n",
    "#         visualizer = JVisualizer()\n",
    "#         visualizer.add_geometry(pointcloud)\n",
    "#         visualizer.show()\n",
    "        model = PyntCloud.from_file(pcd_filename)\n",
    "\n",
    "        model.plot()\n",
    "        # store end time \n",
    "        end = time.time() \n",
    "        print(\"Total time taken to convert from stl to point cloud:\",end-start)\n",
    "    else:\n",
    "        print(\"file not found\")\n",
    "else:\n",
    "    print(\"scad file not found\")"
   ]
  },
  {
   "cell_type": "code",
   "execution_count": null,
   "metadata": {},
   "outputs": [],
   "source": []
  }
 ],
 "metadata": {
  "kernelspec": {
   "display_name": "Python 3",
   "language": "python",
   "name": "python3"
  },
  "language_info": {
   "codemirror_mode": {
    "name": "ipython",
    "version": 3
   },
   "file_extension": ".py",
   "mimetype": "text/x-python",
   "name": "python",
   "nbconvert_exporter": "python",
   "pygments_lexer": "ipython3",
   "version": "3.8.6"
  }
 },
 "nbformat": 4,
 "nbformat_minor": 4
}
