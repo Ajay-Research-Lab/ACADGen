{
 "cells": [
  {
   "cell_type": "code",
   "execution_count": 26,
   "metadata": {},
   "outputs": [
    {
     "name": "stdout",
     "output_type": "stream",
     "text": [
      "Requirement already satisfied: pyntcloud in c:\\users\\abhishek\\appdata\\local\\programs\\python\\python38\\lib\\site-packages (0.1.3)\n",
      "Requirement already satisfied: scipy in c:\\users\\abhishek\\appdata\\local\\programs\\python\\python38\\lib\\site-packages (from pyntcloud) (1.6.0)\n",
      "Requirement already satisfied: pandas in c:\\users\\abhishek\\appdata\\local\\programs\\python\\python38\\lib\\site-packages (from pyntcloud) (1.0.5)\n",
      "Requirement already satisfied: numpy in c:\\users\\abhishek\\appdata\\local\\programs\\python\\python38\\lib\\site-packages (from pyntcloud) (1.19.3)\n",
      "Requirement already satisfied: python-dateutil>=2.6.1 in c:\\users\\abhishek\\appdata\\roaming\\python\\python38\\site-packages (from pandas->pyntcloud) (2.8.1)\n",
      "Requirement already satisfied: pytz>=2017.2 in c:\\users\\abhishek\\appdata\\local\\programs\\python\\python38\\lib\\site-packages (from pandas->pyntcloud) (2020.1)\n",
      "Requirement already satisfied: six>=1.5 in c:\\users\\abhishek\\appdata\\roaming\\python\\python38\\site-packages (from python-dateutil>=2.6.1->pandas->pyntcloud) (1.15.0)\n",
      "Note: you may need to restart the kernel to use updated packages.\n"
     ]
    }
   ],
   "source": [
    "pip install pyntcloud"
   ]
  },
  {
   "cell_type": "code",
   "execution_count": 41,
   "metadata": {},
   "outputs": [],
   "source": [
    "import argparse\n",
    "import copy\n",
    "import json\n",
    "import os\n",
    "import shutil\n",
    "\n",
    "import cv2\n",
    "import numpy as np\n",
    "from utils.shape import node\n",
    "from utils.tree import createtree\n",
    "from utils.operation import *\n",
    "\n",
    "from matplotlib import pyplot as plt\n",
    "from IPython.display import Image\n",
    "\n",
    "\n",
    "def Dimensioning(userId,view,image):\n",
    "\n",
    "    #Creating temp directory if not present\n",
    "    os.makedirs('static/temp', exist_ok=True)\n",
    "    #Getting user input from app\n",
    "    img = cv2.imread(image,cv2.IMREAD_UNCHANGED)\n",
    "    #Initialization\n",
    "    ratio = 0\n",
    "    shape = \"unidentified\"\n",
    "    #Getting the size of image\n",
    "    w,h,_=img.shape\n",
    "    drawSize = int(h/300)\n",
    "    # if(drawSize == 0):\n",
    "    #     drawSize = 1\n",
    "    #Convert image to grayscale\n",
    "    imgrey = cv2.cvtColor(img.copy(),cv2.COLOR_BGR2GRAY)\n",
    "    #Convert image to black and white\n",
    "    ret, thresh = cv2.threshold(imgrey,127,255,cv2.THRESH_BINARY_INV)\n",
    "    #Find contours\n",
    "    contours, hierarchy = cv2.findContours(thresh,cv2.RETR_CCOMP,cv2.CHAIN_APPROX_SIMPLE)\n",
    "    #Arrange the contours in descending order of area\n",
    "    hierarchy,contours = zip(*sorted(zip(hierarchy[0],contours),key = lambda x: cv2.contourArea(x[1]),reverse=True))\n",
    "\n",
    "    for i,c in enumerate(contours):\n",
    "        #Get the outer most closed contour\n",
    "        if(hierarchy[i][3] != -1  or (hierarchy[i][3] == -1 and hierarchy[i][2] == -1) ):\n",
    "            M = cv2.moments(c)\n",
    "            if(M[\"m00\"] !=0):\n",
    "                cX = int(M[\"m10\"] / M[\"m00\"])\n",
    "                cY = int(M[\"m01\"] / M[\"m00\"])\n",
    "                #Getting the minimum area rectangle enclosing the contour\n",
    "                rect = cv2.minAreaRect(c)\n",
    "                box = cv2.boxPoints(rect)\n",
    "                box = np.int0(box)\n",
    "                #Getting horizontal rectangle enclosing the contour\n",
    "                x,y,w,h = cv2.boundingRect(c)\n",
    "                \n",
    "                # cv2.putText(img, \"#{}\".format(i), (box[0][0], box[0][1]), cv2.FONT_HERSHEY_SIMPLEX,\n",
    "                #     textSize, (255, 0, 0), drawSize,cv2.LINE_AA)\n",
    "\n",
    "                #detect Shape\n",
    "                shape, cylinder_type = detect(c)\n",
    "                print(rect[2])               \n",
    "                if(shape == \"unidentified\"):\n",
    "                    continue\n",
    "                \n",
    "                if(shape==\"triangle\" or shape==\"pentagon\" or shape==\"hexagon\"):\n",
    "                    img = cv2.drawContours(img, [box], 0, (0,0, 255), drawSize)\n",
    "                # w is the width of the rectagle enclosing the circle, i.e diameter of the circle\n",
    "                if(shape==\"circle\"):\n",
    "                    # draw contours\n",
    "                    img = cv2.rectangle(img,(x,y),(x+w,y+h),(0, 0, 255),drawSize)\n",
    "                    cv2.line(img, (x,y), (x+w,y), (0,255, 0), 2)\n",
    "                    ratio = 1/w\n",
    "                else:\n",
    "                    # draw contours\n",
    "                    # img = cv2.drawContours(img, [box], 0, (0,0, 255), drawSize)\n",
    "                    cv2.line(img, tuple(box[0]), tuple(box[1]), (0,255, 0), 2)\n",
    "                    #Length per pixel\n",
    "                    ratio = 1.0/rect[1][1]\n",
    "                break\n",
    "    \n",
    "    #highlighted image path\n",
    "    folder = 'static/temp/' + userId\n",
    "    os.makedirs(folder, exist_ok=True)\n",
    "    #Check whether file already exist and delete\n",
    "    try:\n",
    "        os.remove(folder + '/' + view + '.jpg')\n",
    "    except: pass\n",
    "\n",
    "    path_file = (folder + '/' + view + '.jpg')\n",
    "\n",
    "    #reducing the image size\n",
    "    small = cv2.resize(img, (0,0), fx=0.5, fy=0.5) \n",
    "    cv2.imwrite(path_file,small)\n",
    "    #Convert float to string\n",
    "    ratio = str(ratio)\n",
    "    #Json data to send\n",
    "    data={'image': path_file,'shape': shape,'ratio': ratio}\n",
    "#     plt.imshow(image)\n",
    "#     plt.show()\n",
    "    \n",
    "    display(Image(filename = path_file))\n",
    "    return data"
   ]
  },
  {
   "cell_type": "code",
   "execution_count": 42,
   "metadata": {},
   "outputs": [],
   "source": [
    "import time\n",
    "\n",
    "def Convert(userId, front_image, side_image, top_image, fratio, sratio, tratio):\n",
    "    # store starting time \n",
    "    start = time.time() \n",
    "    os.makedirs('static/'+userId, exist_ok=True)\n",
    "\n",
    "    img_front = cv2.imread(front_image,cv2.IMREAD_UNCHANGED)\n",
    "    img_side = cv2.imread(side_image,cv2.IMREAD_UNCHANGED)\n",
    "    img_top = cv2.imread(top_image,cv2.IMREAD_UNCHANGED)\n",
    "\n",
    "    fratio = float(fratio)\n",
    "    sratio = float(sratio)\n",
    "    tratio = float(tratio)\n",
    "    filePath = \"static/temp/\"+userId\n",
    "#Remove temp file created while dimensioning\n",
    "    try:\n",
    "        shutil.rmtree(filePath)\n",
    "    except OSError as e:\n",
    "        print (\"Error: %s - %s.\" % (e.filename, e.strerror))\n",
    "\n",
    "    primitive = []\n",
    "    #front\n",
    "    object_front = valid_contours(img_front,\"front\",fratio)\n",
    "    re_arrange(object_front,\"front\")\n",
    "    \n",
    "    #side\n",
    "    object_side = valid_contours(img_side,\"side\",sratio)\n",
    "    re_arrange(object_side,\"side\")\n",
    "\n",
    "    #Top\n",
    "    object_top = valid_contours(img_top,\"top\",tratio)\n",
    "    re_arrange(object_top,\"top\")\n",
    "\n",
    "    #Thershold error        \n",
    "#     minApprox = 4 * max(fratio,sratio,tratio)\n",
    "    minApprox = 0.05\n",
    "    primitive = combining(object_front,object_side,object_top,minApprox)\n",
    "    final = []\n",
    "    for set in primitive:\n",
    "        for shape in set:\n",
    "            final.append(shape[0])\n",
    "    \n",
    "    #Check whether file already exist and delete\n",
    "    try:\n",
    "        os.remove('static/' + userId + \"/\" + userId + '.scad')\n",
    "    except: pass\n",
    "\n",
    "    #Generate scad file\n",
    "    path_file = ('static/' + userId + \"/\" + userId + '.scad')\n",
    "    #If the list is empty no shape has been detected\n",
    "    if(len(final) == 0):\n",
    "        path_file = 'static/error.txt'\n",
    "        f = open(path_file, \"w\")\n",
    "        f.write(\"Cannot determine the 3d geometry, check your files again!\")\n",
    "        f.close()\n",
    "    createtree(final,path_file)\n",
    "    # store end time \n",
    "    end = time.time() \n",
    "    print(\"Total time taken to convert:\",end-start)\n",
    "    return path_file\n"
   ]
  },
  {
   "cell_type": "code",
   "execution_count": 50,
   "metadata": {},
   "outputs": [
    {
     "data": {
      "text/plain": [
       "'TestBench/1/front.jpg'"
      ]
     },
     "execution_count": 50,
     "metadata": {},
     "output_type": "execute_result"
    }
   ],
   "source": [
    "userId=\"1\"\n",
    "front_image = \"TestBench/\"+userId+\"/front.jpg\"\n",
    "side_image = \"TestBench/\"+userId+\"/side.jpg\"\n",
    "top_image = \"TestBench/\"+userId+\"/top.jpg\"\n",
    "front_image"
   ]
  },
  {
   "cell_type": "code",
   "execution_count": 51,
   "metadata": {},
   "outputs": [
    {
     "name": "stdout",
     "output_type": "stream",
     "text": [
      "0.0\n"
     ]
    },
    {
     "data": {
      "image/jpeg": "[encoded data removed]",
      "text/plain": [
       "<IPython.core.display.Image object>"
      ]
     },
     "metadata": {},
     "output_type": "display_data"
    },
    {
     "data": {
      "text/plain": [
       "{'image': 'static/temp/1/front.jpg',\n",
       " 'shape': 'rectangle',\n",
       " 'ratio': '0.0052083341611757535'}"
      ]
     },
     "execution_count": 51,
     "metadata": {},
     "output_type": "execute_result"
    }
   ],
   "source": [
    "d1 = Dimensioning(userId,\"front\",front_image)\n",
    "d1"
   ]
  },
  {
   "cell_type": "code",
   "execution_count": 52,
   "metadata": {},
   "outputs": [
    {
     "name": "stdout",
     "output_type": "stream",
     "text": [
      "0.0\n"
     ]
    },
    {
     "data": {
      "image/jpeg": "[encoded data removed]",
      "text/plain": [
       "<IPython.core.display.Image object>"
      ]
     },
     "metadata": {},
     "output_type": "display_data"
    },
    {
     "data": {
      "text/plain": [
       "{'image': 'static/temp/1/side.jpg',\n",
       " 'shape': 'rectangle',\n",
       " 'ratio': '0.0052083341611757535'}"
      ]
     },
     "execution_count": 52,
     "metadata": {},
     "output_type": "execute_result"
    }
   ],
   "source": [
    "d2 = Dimensioning(userId,\"side\",side_image)\n",
    "d2"
   ]
  },
  {
   "cell_type": "code",
   "execution_count": 53,
   "metadata": {},
   "outputs": [
    {
     "name": "stdout",
     "output_type": "stream",
     "text": [
      "-0.0\n"
     ]
    },
    {
     "data": {
      "image/jpeg": "[encoded data removed]",
      "text/plain": [
       "<IPython.core.display.Image object>"
      ]
     },
     "metadata": {},
     "output_type": "display_data"
    },
    {
     "data": {
      "text/plain": [
       "{'image': 'static/temp/1/top.jpg',\n",
       " 'shape': 'circle',\n",
       " 'ratio': '0.010309278350515464'}"
      ]
     },
     "execution_count": 53,
     "metadata": {},
     "output_type": "execute_result"
    }
   ],
   "source": [
    "d3 = Dimensioning(userId,\"top\",top_image)\n",
    "d3"
   ]
  },
  {
   "cell_type": "code",
   "execution_count": 54,
   "metadata": {},
   "outputs": [
    {
     "data": {
      "text/plain": [
       "0.010416668322351507"
      ]
     },
     "execution_count": 54,
     "metadata": {},
     "output_type": "execute_result"
    }
   ],
   "source": [
    "#Multiply the outputed ratio by the width of the rectangle or the diameter in case of circle\n",
    "\"\"\"This is done because lets say the images are taken from camera the the pixel to dimension ratio\n",
    "might changes for each view, so we take the pixel to dimension ratio for converions\"\"\"\n",
    "fratio = float(d1[\"ratio\"]) * 2 #Width of rectangle in highlighted in front view \n",
    "sratio = float(d2[\"ratio\"]) * 2 #Width of rectangle in highlighted in front view\n",
    "tratio = float(d3[\"ratio\"]) * 1 #Width of rectangle in highlighted in front view\n",
    "fratio"
   ]
  },
  {
   "cell_type": "code",
   "execution_count": 55,
   "metadata": {},
   "outputs": [
    {
     "name": "stdout",
     "output_type": "stream",
     "text": [
      "Subtree: 1\n",
      "Total time taken to convert: 0.013333320617675781\n"
     ]
    },
    {
     "data": {
      "text/plain": [
       "'static/1/1.scad'"
      ]
     },
     "execution_count": 55,
     "metadata": {},
     "output_type": "execute_result"
    }
   ],
   "source": [
    "Convert(userId,front_image, side_image, top_image,fratio, sratio, tratio)"
   ]
  },
  {
   "cell_type": "markdown",
   "metadata": {},
   "source": [
    "Wait sometime after running the following code, it will be running in the background"
   ]
  },
  {
   "cell_type": "code",
   "execution_count": 56,
   "metadata": {},
   "outputs": [
    {
     "name": "stdout",
     "output_type": "stream",
     "text": [
      "please wait...\n",
      "stl file found\n"
     ]
    },
    {
     "data": {
      "application/vnd.jupyter.widget-view+json": {
       "model_id": "fd35cfcc21a84665bdd237e66eefc747",
       "version_major": 2,
       "version_minor": 0
      },
      "text/plain": [
       "Renderer(camera=PerspectiveCamera(aspect=1.6, fov=90.0, position=(0.00039436094812117517, 0.49929613864514977,…"
      ]
     },
     "metadata": {},
     "output_type": "display_data"
    },
    {
     "data": {
      "application/vnd.jupyter.widget-view+json": {
       "model_id": "3f955d665fbe4b0ebf23e02caba1f00d",
       "version_major": 2,
       "version_minor": 0
      },
      "text/plain": [
       "HBox(children=(Label(value='Point size:'), FloatSlider(value=0.2, max=2.0, step=0.002), Label(value='Backgroun…"
      ]
     },
     "metadata": {},
     "output_type": "display_data"
    },
    {
     "name": "stdout",
     "output_type": "stream",
     "text": [
      "Total time taken to convert from stl to point cloud: 41.174222230911255\n"
     ]
    }
   ],
   "source": [
    "from subprocess import run\n",
    "import open3d as o3d\n",
    "from open3d.j_visualizer import JVisualizer\n",
    "import time\n",
    "from pyntcloud import PyntCloud\n",
    "\n",
    "\n",
    "# store starting time \n",
    "start = time.time() \n",
    "scad_filename = \"static/\" + userId + '/' + userId + \".scad\"\n",
    "stl_filename = \"static/\" + userId + '/' + userId + \".stl\"\n",
    "pcd_filename = \"static/\" + userId + '/' + userId + \".pcd\"\n",
    "\n",
    "if(os.path.isfile(scad_filename)):\n",
    "    print(\"please wait...\")\n",
    "    run(\"openscadExec/openscad.exe -o \" + stl_filename + \" \" + scad_filename)\n",
    "    if(os.path.isfile(stl_filename)):\n",
    "        print(\"stl file found\")\n",
    "        mesh = o3d.io.read_triangle_mesh(stl_filename)\n",
    "        pointcloud = mesh.sample_points_poisson_disk(100000)\n",
    "        o3d.io.write_point_cloud(pcd_filename, pointcloud)\n",
    "#         o3d.draw_geometries([pointcloud])\n",
    "#         visualizer = JVisualizer()\n",
    "#         visualizer.add_geometry(pointcloud)\n",
    "#         visualizer.show()\n",
    "        model = PyntCloud.from_file(pcd_filename)\n",
    "\n",
    "        model.plot()\n",
    "        # store end time \n",
    "        end = time.time() \n",
    "        print(\"Total time taken to convert from stl to point cloud:\",end-start)\n",
    "    else:\n",
    "        print(\"file not found\")\n",
    "else:\n",
    "    print(\"scad file not found\")"
   ]
  },
  {
   "cell_type": "code",
   "execution_count": null,
   "metadata": {},
   "outputs": [],
   "source": []
  }
 ],
 "metadata": {
  "kernelspec": {
   "display_name": "Python 3",
   "language": "python",
   "name": "python3"
  },
  "language_info": {
   "codemirror_mode": {
    "name": "ipython",
    "version": 3
   },
   "file_extension": ".py",
   "mimetype": "text/x-python",
   "name": "python",
   "nbconvert_exporter": "python",
   "pygments_lexer": "ipython3",
   "version": "3.8.6"
  }
 },
 "nbformat": 4,
 "nbformat_minor": 4
}
